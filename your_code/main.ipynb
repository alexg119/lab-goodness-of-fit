{
 "cells": [
  {
   "cell_type": "markdown",
   "metadata": {},
   "source": [
    "## Question 1\n",
    "A researcher gathers information about the patterns of Physical Activity of children in the fifth grade of primary school of a public school. He defines three categories of physical activity (Low, Medium, High). He also inquires about the regular consumption of sugary drinks at school, and defines two categories (Yes = consumed, No = not consumed). We would like to evaluate if there is an association between patterns of physical activity and the consumption of sugary drinks for the children of this school, at a level of 5% significance. The results are in the following table: \n",
    "\n",
    "![](table4.png)"
   ]
  },
  {
   "cell_type": "code",
   "execution_count": null,
   "metadata": {},
   "outputs": [],
   "source": [
    "# your answer here"
   ]
  },
  {
   "cell_type": "code",
   "execution_count": 10,
   "metadata": {},
   "outputs": [
    {
     "data": {
      "text/html": [
       "<div>\n",
       "<style scoped>\n",
       "    .dataframe tbody tr th:only-of-type {\n",
       "        vertical-align: middle;\n",
       "    }\n",
       "\n",
       "    .dataframe tbody tr th {\n",
       "        vertical-align: top;\n",
       "    }\n",
       "\n",
       "    .dataframe thead th {\n",
       "        text-align: right;\n",
       "    }\n",
       "</style>\n",
       "<table border=\"1\" class=\"dataframe\">\n",
       "  <thead>\n",
       "    <tr style=\"text-align: right;\">\n",
       "      <th></th>\n",
       "      <th>Yes</th>\n",
       "      <th>No</th>\n",
       "    </tr>\n",
       "  </thead>\n",
       "  <tbody>\n",
       "    <tr>\n",
       "      <th>Low</th>\n",
       "      <td>32</td>\n",
       "      <td>12</td>\n",
       "    </tr>\n",
       "    <tr>\n",
       "      <th>Med</th>\n",
       "      <td>14</td>\n",
       "      <td>22</td>\n",
       "    </tr>\n",
       "    <tr>\n",
       "      <th>High</th>\n",
       "      <td>6</td>\n",
       "      <td>9</td>\n",
       "    </tr>\n",
       "  </tbody>\n",
       "</table>\n",
       "</div>"
      ],
      "text/plain": [
       "      Yes  No\n",
       "Low    32  12\n",
       "Med    14  22\n",
       "High    6   9"
      ]
     },
     "metadata": {},
     "output_type": "display_data"
    },
    {
     "name": "stdout",
     "output_type": "stream",
     "text": [
      "[array([[24.08421053, 19.91578947],\n",
      "       [19.70526316, 16.29473684],\n",
      "       [ 8.21052632,  6.78947368]])]\n"
     ]
    },
    {
     "data": {
      "text/plain": [
       "{'Chi-Swuare Statistic': [10.712198008709638],\n",
       " 'p-value': [0.004719280137040844],\n",
       " 'Degrees of freedom': [2],\n",
       " 'Significance Level': [0.05],\n",
       " 'Expected Frequencies': [array([[24.08421053, 19.91578947],\n",
       "         [19.70526316, 16.29473684],\n",
       "         [ 8.21052632,  6.78947368]])]}"
      ]
     },
     "metadata": {},
     "output_type": "display_data"
    },
    {
     "data": {
      "text/plain": [
       "'\\n\\nSo our HO is that there is no association between physical activity patterns and the consumption of sugary drinks.\\nOur HA is that there is an association between physical activity patterns and the consumption of sugary drinks.\\n\\n'"
      ]
     },
     "execution_count": 10,
     "metadata": {},
     "output_type": "execute_result"
    }
   ],
   "source": [
    "# your answer here\n",
    "import pandas as pd\n",
    "import scipy.stats as stats\n",
    "\n",
    "# Observed frequencies\n",
    "\n",
    "data = pd.DataFrame({'Yes': [32,14,6],'No': [12,22,9]}, index=['Low', 'Med', 'High'])\n",
    "\n",
    "display(data)\n",
    "\n",
    "# Compute the Chi2 statistic and p-value\n",
    "chi2, p, dof, expected = stats.chi2_contingency(data)\n",
    "\n",
    "# dof is just 2 no? (rows - 1) * (columns -1)\n",
    "\n",
    "\n",
    "results = {\n",
    "    'Chi-Swuare Statistic': [chi2],\n",
    "    'p-value': [p],\n",
    "    'Degrees of freedom': [dof],\n",
    "    'Significance Level': [0.05],\n",
    "    'Expected Frequencies': [expected]\n",
    "}\n",
    "\n",
    "\n",
    "display(results)\n",
    "\n",
    "\"\"\"\n",
    "\n",
    "So our HO is that there is no association between physical activity patterns and the consumption of sugary drinks.\n",
    "Our HA is that there is an association between physical activity patterns and the consumption of sugary drinks.\n",
    "\n",
    "Our p value is less than 0.05 indicating that there is a statistically  significant association between physical activity and consumption of \n",
    "sugary drinks. Therefore we rject the null hypothesis\n",
    "\n",
    "Furthermore, if we look at the expected frequencies if we assume no association (or complete independence), we can see that they do not match with\n",
    "the actual frequencies, this also supports that there is an association between these variables.\n",
    "\n",
    "\"\"\""
   ]
  },
  {
   "cell_type": "markdown",
   "metadata": {},
   "source": [
    "## [OPTIONAL] Question 2\n",
    "The following table indicates the number of 6-point scores in an American rugby match in the 1979 season.\n",
    "\n",
    "![](table1.png)\n",
    "\n",
    "Based on these results, we create a Poisson distribution with the sample mean parameter  = 2.435. Is there any reason to believe that at a .05 level the number of scores is a Poisson variable?\n",
    "\n",
    "Check [here](https://www.geeksforgeeks.org/how-to-create-a-poisson-probability-mass-function-plot-in-python/) how to create a poisson distribution and how to calculate the expected observations, using the probability mass function (pmf). \n",
    "A Poisson distribution is a discrete probability distribution. It gives the probability of an event happening a certain number of times (k) within a given interval of time or space. The Poisson distribution has only one parameter, λ (lambda), which is the mean number of events."
   ]
  },
  {
   "cell_type": "code",
   "execution_count": null,
   "metadata": {},
   "outputs": [],
   "source": [
    "# your answer here"
   ]
  }
 ],
 "metadata": {
  "kernelspec": {
   "display_name": "Python (ironhack)",
   "language": "python",
   "name": "ironhack"
  },
  "language_info": {
   "codemirror_mode": {
    "name": "ipython",
    "version": 3
   },
   "file_extension": ".py",
   "mimetype": "text/x-python",
   "name": "python",
   "nbconvert_exporter": "python",
   "pygments_lexer": "ipython3",
   "version": "3.9.19"
  }
 },
 "nbformat": 4,
 "nbformat_minor": 2
}
